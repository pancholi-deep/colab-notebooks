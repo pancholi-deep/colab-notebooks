{
  "nbformat": 4,
  "nbformat_minor": 0,
  "metadata": {
    "kernelspec": {
      "display_name": "Python 3",
      "language": "python",
      "name": "python3"
    },
    "language_info": {
      "codemirror_mode": {
        "name": "ipython",
        "version": 3
      },
      "file_extension": ".py",
      "mimetype": "text/x-python",
      "name": "python",
      "nbconvert_exporter": "python",
      "pygments_lexer": "ipython3",
      "version": "3.9.0"
    },
    "colab": {
      "name": "CB.EN.P2CSE20011 Deep Learning Lab1.ipynb",
      "provenance": [],
      "include_colab_link": true
    }
  },
  "cells": [
    {
      "cell_type": "markdown",
      "metadata": {
        "id": "view-in-github",
        "colab_type": "text"
      },
      "source": [
        "<a href=\"https://colab.research.google.com/github/pancholi-deep/colab-notebooks/blob/main/CB_EN_P2CSE20011_Deep_Learning_Lab1.ipynb\" target=\"_parent\"><img src=\"https://colab.research.google.com/assets/colab-badge.svg\" alt=\"Open In Colab\"/></a>"
      ]
    },
    {
      "cell_type": "markdown",
      "metadata": {
        "id": "vvLkgRqWW6eK"
      },
      "source": [
        "Demonstrate the classification and regression ability of a perceptron.\n",
        " - Choose a classification problem and regression problem.\n",
        " - Demonstrate the performance of perceptron on those two\n",
        "   problems.\n",
        "   - The iteration wise error status\n",
        "   - Visualization of determinant function\n",
        "  \n",
        "  \n",
        "Submit your Jupyter Notebook with all necessary description about the above assignment: <br>\n",
        " - Problem definition\n",
        " - necessary problem related plots\n",
        " - any thought process about perceptron tweaking\n",
        " - results of the classification and regression problem.\n",
        "\n",
        "Design of Experiments<br>\n",
        "Your presentation of results<br>\n",
        "Insights and Interpretation of your results"
      ]
    },
    {
      "cell_type": "code",
      "metadata": {
        "id": "P0BWO71qW6eO"
      },
      "source": [
        ""
      ],
      "execution_count": null,
      "outputs": []
    }
  ]
}